{
 "cells": [
  {
   "cell_type": "code",
   "execution_count": 3,
   "id": "97acd4a0",
   "metadata": {},
   "outputs": [],
   "source": [
    "languages=['Python','R','SQL','RUBY','Java','C','C++']"
   ]
  },
  {
   "cell_type": "code",
   "execution_count": 7,
   "id": "a324a79c",
   "metadata": {},
   "outputs": [
    {
     "name": "stdout",
     "output_type": "stream",
     "text": [
      "Yes \n"
     ]
    }
   ],
   "source": [
    "if 'Python' in languages:\n",
    "    print('Yes ')\n",
    "else:\n",
    "    print(\"Not present\")"
   ]
  },
  {
   "cell_type": "code",
   "execution_count": 5,
   "id": "d5695098",
   "metadata": {},
   "outputs": [
    {
     "name": "stdout",
     "output_type": "stream",
     "text": [
      "Yea\n"
     ]
    }
   ],
   "source": [
    "print('Yea')"
   ]
  },
  {
   "cell_type": "code",
   "execution_count": 10,
   "id": "28ac8e8a",
   "metadata": {},
   "outputs": [
    {
     "name": "stdout",
     "output_type": "stream",
     "text": [
      "Enter your userid: dewfwa\n",
      "Enter your password: fd\n",
      "Please check user id and password\n"
     ]
    }
   ],
   "source": [
    "string1=str(input(\"Enter your userid: \"))\n",
    "string2=str(input(\"Enter your password: \"))\n",
    "\n",
    "if (string1=='greatlearning' and string2=='12345'):\n",
    "    print('Successfully logged in!!')\n",
    "else:\n",
    "    print('Please check user id and password')"
   ]
  },
  {
   "cell_type": "code",
   "execution_count": 12,
   "id": "e6967a30",
   "metadata": {},
   "outputs": [
    {
     "name": "stdout",
     "output_type": "stream",
     "text": [
      "Yes There\n"
     ]
    }
   ],
   "source": [
    "if 'Python' in languages:\n",
    "    print('Yes There')\n",
    "elif 'R' in languages:\n",
    "    print('Yes')\n",
    "else:\n",
    "    print(\"NO\")"
   ]
  },
  {
   "cell_type": "code",
   "execution_count": 13,
   "id": "feaea35b",
   "metadata": {},
   "outputs": [],
   "source": [
    "A=(3,4,5)"
   ]
  },
  {
   "cell_type": "code",
   "execution_count": 16,
   "id": "e97d05c7",
   "metadata": {},
   "outputs": [
    {
     "name": "stdout",
     "output_type": "stream",
     "text": [
      "True\n"
     ]
    }
   ],
   "source": [
    "if A[1]==8/2:\n",
    "    print(\"True\")\n",
    "else:\n",
    "    print(\"False\")"
   ]
  },
  {
   "cell_type": "code",
   "execution_count": null,
   "id": "09f96dc4",
   "metadata": {},
   "outputs": [],
   "source": []
  }
 ],
 "metadata": {
  "kernelspec": {
   "display_name": "Python 3 (ipykernel)",
   "language": "python",
   "name": "python3"
  },
  "language_info": {
   "codemirror_mode": {
    "name": "ipython",
    "version": 3
   },
   "file_extension": ".py",
   "mimetype": "text/x-python",
   "name": "python",
   "nbconvert_exporter": "python",
   "pygments_lexer": "ipython3",
   "version": "3.9.7"
  }
 },
 "nbformat": 4,
 "nbformat_minor": 5
}
