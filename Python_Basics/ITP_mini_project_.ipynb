{
 "cells": [
  {
   "cell_type": "markdown",
   "metadata": {},
   "source": [
    "## <center>Introduction to Python Programming – Mini Project</center>\n"
   ]
  },
  {
   "cell_type": "markdown",
   "metadata": {},
   "source": [
    "### Problem 1\n",
    "\n",
    "Write a program to calculate area of shapes. Your program should be capable of calculating the area of a square, rectangle, triangle and a circle. The user should be presented with options to select the shape. Based on which shape is chosen by the user, the program should ask for the appropriate input and print the resulting area on the screen.\n",
    "\n",
    "When the program is run, the screen should display something like this:\n",
    "\n",
    "**Which shape would you like to calculate the area for? Please enter the option number-**<br>\n",
    "**1. Square**<br>\n",
    "**2. Rectangle**<br>\n",
    "**3. Triangle**<br>\n",
    "**4. Circle**<br>\n",
    "**Enter Option: _**\n",
    "\n",
    "Say the user enters the option 1.\n",
    "\n",
    "**Please enter the length of a side: _**\n",
    "\n",
    "If the user enters a value of 5. The output should be:\n",
    "\n",
    "**The area of the square is 25**\n",
    "\n",
    "This program should indicate that the input is invalid if the user enters a character instead of a number as input. For instance if the user enters a value of ‘a’ instead of 5 in the previous example the program should prompt:\n",
    "\n",
    "**Invalid input, please enter a number: _**\n"
   ]
  },
  {
   "cell_type": "code",
   "execution_count": 6,
   "metadata": {},
   "outputs": [
    {
     "name": "stdout",
     "output_type": "stream",
     "text": [
      "Please enter the option number- 1.Square, 2.Rectangle, 3. Triangle, 4.Circle, 5.Exit6\n",
      "Invalid input, please enter length of a side: \n"
     ]
    }
   ],
   "source": [
    "def main():\n",
    "    while(True):\n",
    "        shape=input('Please enter the option number- 1.Square, 2.Rectangle, 3. Triangle, 4.Circle, 5.Exit')\n",
    "        \n",
    "        if(shape=='1'):\n",
    "            print(\"Area of square is \", Area_square())\n",
    "        elif(shape=='2'):\n",
    "            print(\"Area of rectangle is \", Area_rectangle())\n",
    "        elif(shape=='3'):\n",
    "            print(\"Area of triangle is \", Area_triangle())\n",
    "        elif(shape=='4'):\n",
    "            print(\"Area of circle is \", Area_circle())\n",
    "        elif (shape=='5'):\n",
    "            print('Thank you')\n",
    "            break\n",
    "        else:\n",
    "            print('Invalid input, please enter length of a side: ')\n",
    "        return\n",
    "\n",
    "def Area_square():\n",
    "    side=int(input('Enter the side of the square'))\n",
    "    return side*side\n",
    "\n",
    "def Area_rect():\n",
    "    length=int(input('Enter the length of the rectangle'))\n",
    "    breath=int(input('Enter the breath of the rectangle'))\n",
    "    return length*breath\n",
    "    \n",
    "def Area_triangle():\n",
    "    base=int(input('Enter the base of the triangle'))\n",
    "    altitude=int(input('Enter the altitude of the triangle'))\n",
    "    return 0.5*base*altitude\n",
    "\n",
    "def Area_circle():\n",
    "    radius=int(input('Enter the radius of the circle'))\n",
    "    print(3.14*radius*radius)\n",
    "\n",
    "    \n",
    "main()   \n",
    " \n"
   ]
  },
  {
   "cell_type": "markdown",
   "metadata": {},
   "source": [
    "### Problem 2\n",
    "\n",
    "You have newly joined an organization abc.com. Write a python function that will take your 1st and last name as input and print the official mail as which has a format like firstname.lastname@abc.com\n",
    "\n",
    "When the program is run, the screen should display something like this:\n",
    "\n",
    "Enter your first name: nikhil\n",
    "\n",
    "Enter your last name: agrawal\n",
    "\n",
    "You official email id is nikhil.agrawal@abc.com \n",
    "\n",
    "**Hint:** use string concatenation."
   ]
  },
  {
   "cell_type": "code",
   "execution_count": 4,
   "metadata": {},
   "outputs": [
    {
     "name": "stdout",
     "output_type": "stream",
     "text": [
      "Enter your first name: rutu\n",
      "Enter your last name: dhanawade\n",
      "Your official email id is  rutu.dhanawade@abc.com\n"
     ]
    }
   ],
   "source": [
    "def get_email():\n",
    "    fname=str(input(\"Enter your first name: \"))\n",
    "    lname=str(input(\"Enter your last name: \"))\n",
    "    email=fname+'.'+lname+'@abc.com'\n",
    "    print(\"Your official email id is \",email)\n",
    "get_email()"
   ]
  },
  {
   "cell_type": "code",
   "execution_count": null,
   "metadata": {},
   "outputs": [],
   "source": []
  }
 ],
 "metadata": {
  "kernelspec": {
   "display_name": "Python 3 (ipykernel)",
   "language": "python",
   "name": "python3"
  },
  "language_info": {
   "codemirror_mode": {
    "name": "ipython",
    "version": 3
   },
   "file_extension": ".py",
   "mimetype": "text/x-python",
   "name": "python",
   "nbconvert_exporter": "python",
   "pygments_lexer": "ipython3",
   "version": "3.9.7"
  }
 },
 "nbformat": 4,
 "nbformat_minor": 2
}
